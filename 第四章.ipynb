{
 "cells": [
  {
   "cell_type": "markdown",
   "id": "7900144b",
   "metadata": {},
   "source": [
    "# 四章　ニューラルネットワークの学習"
   ]
  },
  {
   "cell_type": "markdown",
   "id": "960966ec",
   "metadata": {},
   "source": [
    "ニューラルネットワークの**学習**とは、出力データと実際の訓練データ(本章では今後**教師データ**と呼ぶ)の間に存在する誤差を最も小さくする重みやバイアスなどのパラメータを算出し、テストデータでそのパラメータの精度を計るという一連の流れのことです。\n",
    "\n",
    "この学習の目的はテストデータなどの教師データに含まれないデータでも精度の高い演算を行えるようにすること(**汎化能力**を獲得すること)であるため、教師データだけに過度に対応した演算になってしまうこと(**過学習**)は避けねばならない問題です。"
   ]
  },
  {
   "cell_type": "markdown",
   "id": "7560b161",
   "metadata": {},
   "source": [
    "ニューラルネットワークの学習では主に**勾配法**と呼ばれる手法が用いられます。その手順をまとめると、以下のようになります。"
   ]
  },
  {
   "cell_type": "markdown",
   "id": "9c6849a9",
   "metadata": {},
   "source": [
    "1. **ミニバッチの作成**…何千何万という膨大な教師データは同時に扱うことができません。そこで大量のデータから100や200程度の一部のデータをランダムに選び出します。この時選ばれたデータを**ミニバッチ**といいます。\n",
    "2. **損失関数に代入**…ニューラルネットワークの出力データと教師データのミニバッチに存在する誤差を求める関数を**損失関数**といいます。損失関数に代入することでその重みやバイアスのパラメータがいかに悪いかを示すことができます。\n",
    "3. **勾配を算出**…**偏微分**を利用して損失関数の値を最も減らす方向をベクトルで示します。\n",
    "4. **パラメータの更新**…3.で示した方向に微小量だけ進みます。その時に進む量(更新する量)を**学習率**といいます。\n",
    "5. **繰り返す**…1.～4.までの動きを繰り返します。この際繰り返す回数や4.で出てきた学習率などのパラメータは**ハイパーパラメータ**と呼ばれ、人の手で設定しなければなりません。"
   ]
  },
  {
   "cell_type": "markdown",
   "id": "30a46aa6",
   "metadata": {},
   "source": [
    "このような手順は、ミニバッチをランダムで求めていたり、勾配法でパラメータの最小値を求めていることから、**確率的勾配降下法**という名前で呼ばれます。\n",
    "\n",
    "それでは、1番目の手順から順番に見ていきましょう。"
   ]
  },
  {
   "cell_type": "markdown",
   "id": "b2f40b08",
   "metadata": {},
   "source": [
    "## ミニバッチ学習"
   ]
  },
  {
   "cell_type": "markdown",
   "id": "881a5e56",
   "metadata": {},
   "source": [
    "前回も用いたMNISTデータセットを用いて教師データ60000個からランダムに10枚を抜き出してミニバッチを作ってみましょう。"
   ]
  },
  {
   "cell_type": "code",
   "execution_count": 1,
   "id": "e3650f12",
   "metadata": {},
   "outputs": [
    {
     "name": "stdout",
     "output_type": "stream",
     "text": [
      "(60000, 784)\n",
      "(60000, 10)\n"
     ]
    }
   ],
   "source": [
    "import sys,os #まずはMNISTデータセットを読み込む\n",
    "sys.path.append(os.pardir)\n",
    "from dataset.mnist import load_mnist\n",
    "(x_train,t_train),(x_test,t_test)=\\\n",
    "    load_mnist(normalize=True,one_hot_label=True)\n",
    "print(x_train.shape) \n",
    "print(t_train.shape)"
   ]
  },
  {
   "cell_type": "markdown",
   "id": "2b45f11e",
   "metadata": {},
   "source": [
    "ここでone_hot_labelをTrueにすることで、教師データ(t_train.shapeの10)が正解のラベルのみ1、残りを0とするデータ構造(**one_hot表現**)になります。これは次の損失関数を用いるときに非常に重要になります。"
   ]
  },
  {
   "cell_type": "code",
   "execution_count": 2,
   "id": "c96dd560",
   "metadata": {},
   "outputs": [
    {
     "name": "stdout",
     "output_type": "stream",
     "text": [
      "[[0. 0. 0. 0. 0. 0. 0. 0. 1. 0.]\n",
      " [0. 0. 0. 0. 1. 0. 0. 0. 0. 0.]\n",
      " [0. 0. 0. 1. 0. 0. 0. 0. 0. 0.]\n",
      " [0. 0. 0. 0. 0. 1. 0. 0. 0. 0.]\n",
      " [1. 0. 0. 0. 0. 0. 0. 0. 0. 0.]\n",
      " [1. 0. 0. 0. 0. 0. 0. 0. 0. 0.]\n",
      " [0. 0. 0. 1. 0. 0. 0. 0. 0. 0.]\n",
      " [0. 0. 1. 0. 0. 0. 0. 0. 0. 0.]\n",
      " [0. 0. 0. 0. 0. 0. 0. 0. 0. 1.]\n",
      " [0. 0. 0. 0. 0. 0. 0. 1. 0. 0.]]\n"
     ]
    }
   ],
   "source": [
    "import numpy as np\n",
    "train_size=x_train.shape[0]\n",
    "batch_size=10\n",
    "batch_mask=np.random.choice(train_size,batch_size) #train_size(60000個)からランダムにbatch_size(10枚)選ばれる\n",
    "x_batch=x_train[batch_mask]\n",
    "t_batch=t_train[batch_mask]\n",
    "print(t_batch)"
   ]
  },
  {
   "cell_type": "markdown",
   "id": "e907643c",
   "metadata": {},
   "source": [
    "## 損失関数"
   ]
  },
  {
   "cell_type": "markdown",
   "id": "eb0b3608",
   "metadata": {},
   "source": [
    "損失関数には様々な任意の関数を用いることができますが、一般的には2乗和誤差や交差エントロピー誤差などが用いられます。"
   ]
  },
  {
   "cell_type": "markdown",
   "id": "288244f0",
   "metadata": {},
   "source": [
    "### 2乗和誤差"
   ]
  },
  {
   "cell_type": "markdown",
   "id": "35b104e2",
   "metadata": {},
   "source": [
    "2乗和誤差の数式は以下の通りです。値が小さいほうが誤差は小さくなります。"
   ]
  },
  {
   "cell_type": "markdown",
   "id": "0edb4734",
   "metadata": {},
   "source": [
    "$$\n",
    "    E =\\frac{1}{2}\\sum_{k}(y_k-t_k)^2\n",
    "$$"
   ]
  },
  {
   "cell_type": "code",
   "execution_count": 3,
   "id": "194882ed",
   "metadata": {},
   "outputs": [
    {
     "data": {
      "text/plain": [
       "0.09750000000000003"
      ]
     },
     "execution_count": 3,
     "metadata": {},
     "output_type": "execute_result"
    }
   ],
   "source": [
    "def sum_squared_error(y,t): #二乗和誤差の定義\n",
    "    return 0.5*np.sum((y-t)**2)\n",
    "y=[0.1,0.05,0.6,0.0,0.05,0.1,0.0,0.1,0.0,0.0] #出力データ(2の確率が最も高い場合)\n",
    "t=[0,0,1,0,0,0,0,0,0,0] #教師データ(2が正解)\n",
    "sum_squared_error(np.array(y),np.array(t))"
   ]
  },
  {
   "cell_type": "code",
   "execution_count": 4,
   "id": "fcd63e87",
   "metadata": {},
   "outputs": [
    {
     "data": {
      "text/plain": [
       "0.5975"
      ]
     },
     "execution_count": 4,
     "metadata": {},
     "output_type": "execute_result"
    }
   ],
   "source": [
    "y=[0.1,0.05,0.1,0.0,0.05,0.1,0.0,0.6,0.0,0.0] #7の確率が最も高い場合\n",
    "sum_squared_error(np.array(y),np.array(t))"
   ]
  },
  {
   "cell_type": "markdown",
   "id": "2f48042f",
   "metadata": {},
   "source": [
    "### 交差エントロピー誤差"
   ]
  },
  {
   "cell_type": "markdown",
   "id": "40ed9d6c",
   "metadata": {},
   "source": [
    "交差エントロピー誤差は以下の数式で表されます。"
   ]
  },
  {
   "cell_type": "markdown",
   "id": "6358d5b0",
   "metadata": {},
   "source": [
    "$$\n",
    "    E = -\\sum_{k}t_klogy_k\n",
    "$$"
   ]
  },
  {
   "cell_type": "code",
   "execution_count": 5,
   "id": "6c9c00ec",
   "metadata": {},
   "outputs": [
    {
     "data": {
      "image/png": "[encoded data removed]",
      "text/plain": [
       "<Figure size 432x288 with 1 Axes>"
      ]
     },
     "metadata": {
      "needs_background": "light"
     },
     "output_type": "display_data"
    }
   ],
   "source": [
    "import matplotlib.pyplot as plt\n",
    "x=np.arange(0.001,1.1,0.001)\n",
    "y=np.log(x)\n",
    "plt.plot(x,y)\n",
    "plt.ylim(-5.0,0.1)\n",
    "plt.show()"
   ]
  },
  {
   "cell_type": "markdown",
   "id": "8b4f8bf2",
   "metadata": {},
   "source": [
    "このグラフより、自然対数は$ x $が1の時$ y $の値は0になるため、確率が1に近ければ近いほど値(誤差)は0に近づきます。逆に確率が低ければ－を掛けていることから値(誤差)は大きくなります。"
   ]
  },
  {
   "cell_type": "code",
   "execution_count": 6,
   "id": "7f25f228",
   "metadata": {},
   "outputs": [
    {
     "data": {
      "text/plain": [
       "0.510825457099338"
      ]
     },
     "execution_count": 6,
     "metadata": {},
     "output_type": "execute_result"
    }
   ],
   "source": [
    "def cross_entropy_error(y,t): #交差エントロピー誤差の定義\n",
    "    delta=1e-7\n",
    "    return -np.sum(t*np.log(y+delta))\n",
    "t=[0,0,1,0,0,0,0,0,0,0]\n",
    "y=[0.1,0.05,0.6,0.0,0.05,0.1,0.0,0.1,0.0,0.0]\n",
    "cross_entropy_error(np.array(y),np.array(t))"
   ]
  },
  {
   "cell_type": "code",
   "execution_count": 7,
   "id": "965fdb52",
   "metadata": {},
   "outputs": [
    {
     "data": {
      "text/plain": [
       "2.302584092994546"
      ]
     },
     "execution_count": 7,
     "metadata": {},
     "output_type": "execute_result"
    }
   ],
   "source": [
    "y=[0.1,0.05,0.1,0.0,0.05,0.1,0.0,0.6,0.0,0.0]\n",
    "cross_entropy_error(np.array(y),np.array(t))"
   ]
  },
  {
   "cell_type": "markdown",
   "id": "4f866264",
   "metadata": {},
   "source": [
    "それでは一度、ミニバッチに対応した交差エントロピー誤差を実装してみましょう。"
   ]
  },
  {
   "cell_type": "code",
   "execution_count": 8,
   "id": "c0b95457",
   "metadata": {},
   "outputs": [],
   "source": [
    "def cross_entropy_error1(y,t):\n",
    "    if y.ndim==1: #データ1つ当たりの交差エントロピー誤差を求める場合\n",
    "        t=t.reshape(1,t.size)\n",
    "        y=y.reshape(1,y.size)\n",
    "    batch_size=y.shape[0]\n",
    "    return -np.sum(t*np.log(y-1e-7))/batch_size"
   ]
  },
  {
   "cell_type": "markdown",
   "id": "cf6ade4c",
   "metadata": {},
   "source": [
    "また、教師データがone_hot表現ではなく「2」や「5」などのラベルとして与えられた場合には以下のように定義します。"
   ]
  },
  {
   "cell_type": "code",
   "execution_count": 9,
   "id": "f0102e89",
   "metadata": {},
   "outputs": [],
   "source": [
    "def cross_entropy_error2(y,t):\n",
    "    if y.ndim==1:\n",
    "        t=t.reshape(1,t.size)\n",
    "        y=y.reshape(1,y.size)\n",
    "    batch_size=y.shape[0]\n",
    "    return -np.sum(np.log(y[np.arange(batch_size),t]+1e-7))/batch_size #t(教師ラベル)に対応するニューラルネットワークの出力を出す"
   ]
  },
  {
   "cell_type": "markdown",
   "id": "8630c9dc",
   "metadata": {},
   "source": [
    "精度をそのまま指標化せずに一度損失関数の値を求めるという二度手間をしている理由としては、精度で求めようとすると次にパラメータを微分して勾配を求める際、その値がほとんど0になるか、変化しても不規則であったりするからです。これは精度の変化が(教師データが膨大でない限り)曲線で表せないことを示しています。"
   ]
  },
  {
   "cell_type": "markdown",
   "id": "7ff1e016",
   "metadata": {},
   "source": [
    "## 微分・勾配"
   ]
  },
  {
   "cell_type": "markdown",
   "id": "e2d895cd",
   "metadata": {},
   "source": [
    "微分とはある瞬間の変化の量(傾き)を表したものです。数式では以下のようになります。"
   ]
  },
  {
   "cell_type": "markdown",
   "id": "b3446a41",
   "metadata": {},
   "source": [
    "$$\n",
    "   \\begin{align}\n",
    "   \\frac{df(x)}{dx} = \\lim_{h \\to 0}\\frac{f(x+h)-f(x)}{h}\n",
    "   \\end{align}\n",
    "$$"
   ]
  },
  {
   "cell_type": "code",
   "execution_count": 10,
   "id": "a186d516",
   "metadata": {},
   "outputs": [],
   "source": [
    "def numerical_diff(f,x):\n",
    "    h=1e-4 #0.0001\n",
    "    return (f(x+h)-f(x-h))/(2*h)"
   ]
  },
  {
   "cell_type": "markdown",
   "id": "3a0b1d82",
   "metadata": {},
   "source": [
    "この定義には元の数式から2つほど変更点があります。1つは$ h $の値を$ 1e-50 $といった小さすぎる値にしていないこと。あまりに小さくしすぎると小数点以下のいくつかが省略された際に、0.0といった値になってしまう可能性(**丸め誤差**)があるからです。"
   ]
  },
  {
   "cell_type": "markdown",
   "id": "ae7cee89",
   "metadata": {},
   "source": [
    "もう1つは近似による接線を求めた際に生じる誤差を減らすために、$ x $を中心としてその前後の差分を計算していることです。このような計算を**中心差分**といいます(元の計算は**前方差分**)。"
   ]
  },
  {
   "cell_type": "markdown",
   "id": "cdb572b9",
   "metadata": {},
   "source": [
    "実際に、$ y=0.01x^2+0.1x $といった簡単な関数を微分してみましょう。"
   ]
  },
  {
   "cell_type": "code",
   "execution_count": 11,
   "id": "7b0a4fe9",
   "metadata": {},
   "outputs": [
    {
     "name": "stdout",
     "output_type": "stream",
     "text": [
      "0.2999999999986347\n"
     ]
    },
    {
     "data": {
      "image/png": "[encoded data removed]",
      "text/plain": [
       "<Figure size 432x288 with 1 Axes>"
      ]
     },
     "metadata": {
      "needs_background": "light"
     },
     "output_type": "display_data"
    }
   ],
   "source": [
    "def function_1(x): #関数の定義\n",
    "    return 0.01*x**2 + 0.1*x \n",
    "\n",
    "def tangent_line(f, x): #接線の定義\n",
    "    d = numerical_diff(f, x)\n",
    "    print(d)\n",
    "    y = f(x) - d*x\n",
    "    return lambda t: d*t + y\n",
    "     \n",
    "x = np.arange(0.0, 20.0, 0.1)\n",
    "y = function_1(x)\n",
    "plt.xlabel(\"x\")\n",
    "plt.ylabel(\"f(x)\")\n",
    "\n",
    "tf = tangent_line(function_1, 10) #x=10での接線を求める\n",
    "y2 = tf(x)\n",
    "\n",
    "plt.plot(x, y)\n",
    "plt.plot(x, y2)\n",
    "plt.show()"
   ]
  },
  {
   "cell_type": "markdown",
   "id": "57a4671d",
   "metadata": {},
   "source": [
    "続いて、**偏微分**についてみていきましょう。偏微分とは以下のような数式、グラフで表されます。"
   ]
  },
  {
   "cell_type": "markdown",
   "id": "701f1eca",
   "metadata": {},
   "source": [
    "$$\n",
    "  f(x_0,x_1)=x_0^2+x_1^2\n",
    "$$"
   ]
  },
  {
   "cell_type": "code",
   "execution_count": 12,
   "id": "1971617b",
   "metadata": {},
   "outputs": [
    {
     "data": {
      "image/png": "[encoded data removed]",
      "text/plain": [
       "<Figure size 432x288 with 1 Axes>"
      ]
     },
     "metadata": {
      "needs_background": "light"
     },
     "output_type": "display_data"
    }
   ],
   "source": [
    "from mpl_toolkits.mplot3d import Axes3D\n",
    "def function_2(x0,x1):\n",
    "    return x0**2+x1**2\n",
    "\n",
    "x=np.arange(-3.0,3.0,0.25)\n",
    "y=np.arange(-3.0,3.0,0.25)\n",
    "X,Y=np.meshgrid(x,y)\n",
    "Z=function_2(X,Y)\n",
    "fig=plt.figure()\n",
    "ax = fig.add_subplot(111, projection='3d')\n",
    "ax.set_xlabel(\"x0\")\n",
    "ax.set_ylabel(\"x1\")\n",
    "ax.set_zlabel(\"f(x)\")\n",
    "ax.plot_wireframe(X, Y, Z)\n",
    "plt.show()"
   ]
  },
  {
   "cell_type": "markdown",
   "id": "191f93c4",
   "metadata": {},
   "source": [
    "また、偏微分の特徴として「どの変数に対しての微分か」(今回の場合だと$ x_0 $と$ x_1 $)を区別する必要があります。この時の数式は、$ \\frac{\\partial f}{\\partial x_0} $、$ \\frac{\\partial f}{\\partial x_1} $のようにあらわせます。実際に計算してみましょう。"
   ]
  },
  {
   "cell_type": "code",
   "execution_count": 13,
   "id": "2da2e704",
   "metadata": {},
   "outputs": [
    {
     "name": "stdout",
     "output_type": "stream",
     "text": [
      "6.00000000000378\n",
      "7.999999999999119\n"
     ]
    }
   ],
   "source": [
    "def function_tmp1(x0): #x0=3,x1=4の時のx0に対する偏微分\n",
    "    return x0*x0+4.0**2.0\n",
    "\n",
    "print(numerical_diff(function_tmp1,3.0))\n",
    "\n",
    "def function_tmp2(x1): #x1に対する偏微分\n",
    "    return 3.0**2.0+x1*x1\n",
    "\n",
    "print(numerical_diff(function_tmp2,4.0))"
   ]
  },
  {
   "cell_type": "markdown",
   "id": "2dfabe06",
   "metadata": {},
   "source": [
    "先ほどは区別する必要があると書きましたが、両方の偏微分を$ (\\frac{\\partial f}{\\partial x_0},\\frac{\\partial f}{\\partial x_1}) $のようにまとめることで、ベクトルとして考えることができます。すべての変数の偏微分をベクトルとしてまとめたものを、**勾配**と呼びます。"
   ]
  },
  {
   "cell_type": "code",
   "execution_count": 64,
   "id": "e710c3a7",
   "metadata": {},
   "outputs": [
    {
     "data": {
      "text/plain": [
       "array([6., 8.])"
      ]
     },
     "execution_count": 64,
     "metadata": {},
     "output_type": "execute_result"
    }
   ],
   "source": [
    "def function_2_1(x):\n",
    "    return x[0]**2+x[1]**2\n",
    "def numerical_gradient(f,x): #勾配の定義\n",
    "    h=1e-4\n",
    "    grad=np.zeros_like(x) #xと同じ形状の配列\n",
    "    for idx in range(x.size):\n",
    "        tmp_val=x[idx]\n",
    "        x[idx]=tmp_val+h #f(x+h)\n",
    "        fxh1=f(x)\n",
    "        \n",
    "        x[idx]=tmp_val-h #f(x-h)\n",
    "        fxh2=f(x)\n",
    "        \n",
    "        grad[idx]=(fxh1-fxh2)/(2*h)\n",
    "        x[idx]=tmp_val\n",
    "    \n",
    "    return grad\n",
    "\n",
    "numerical_gradient(function_2_1,np.array([3.0,4.0])) #点(3,4)の勾配"
   ]
  },
  {
   "cell_type": "markdown",
   "id": "41f2fbb8",
   "metadata": {},
   "source": [
    "$ f(x,y)=x^2+y^2 $の勾配を図示してみましょう。"
   ]
  },
  {
   "cell_type": "code",
   "execution_count": 15,
   "id": "3f51663d",
   "metadata": {},
   "outputs": [
    {
     "data": {
      "image/png": "[encoded data removed]",
      "text/plain": [
       "<Figure size 432x288 with 1 Axes>"
      ]
     },
     "metadata": {
      "needs_background": "light"
     },
     "output_type": "display_data"
    }
   ],
   "source": [
    "def function_a(x,y): #元の関数\n",
    "    return x**2+y**2\n",
    "def function_b(x,y): #xでの偏微分\n",
    "    return 2*x\n",
    "def function_c(x,y): #yでの偏微分\n",
    "    return 2*y\n",
    "\n",
    "x=np.arange(-2.0,2.1,0.25)\n",
    "y=np.arange(-2.0,2.1,0.25)\n",
    "plt.xlabel(\"x\")\n",
    "plt.ylabel(\"y\")\n",
    "xx,yy=np.meshgrid(x, y)\n",
    "\n",
    "function_b_matrix=function_b(xx,yy)\n",
    "function_c_matrix=function_c(xx,yy)\n",
    "\n",
    "plt.quiver(xx,yy,-function_b_matrix,-function_c_matrix)\n",
    "plt.show()"
   ]
  },
  {
   "cell_type": "markdown",
   "id": "a34b7aac",
   "metadata": {},
   "source": [
    "一度まとめとして**勾配降下法**(勾配から最小値を求めること)を実装したいと思います。勾配法は数式で表すと以下のようになります。"
   ]
  },
  {
   "cell_type": "markdown",
   "id": "aff3f6e6",
   "metadata": {},
   "source": [
    "$$\n",
    "   x_0=x_0-\\eta\\frac{\\partial f}{\\partial x_0} \\\\\n",
    "   x_1=x_1-\\eta\\frac{\\partial f}{\\partial x_1}\n",
    "$$"
   ]
  },
  {
   "cell_type": "markdown",
   "id": "ad1cd9a5",
   "metadata": {},
   "source": [
    "$ \\eta $は更新の量(**学習率**)を表します。"
   ]
  },
  {
   "cell_type": "code",
   "execution_count": 16,
   "id": "b80efeeb",
   "metadata": {},
   "outputs": [
    {
     "data": {
      "text/plain": [
       "array([-6.11110793e-10,  8.14814391e-10])"
      ]
     },
     "execution_count": 16,
     "metadata": {},
     "output_type": "execute_result"
    }
   ],
   "source": [
    "def gradient_descent(f,init_x,lr=0.01,step_num=100):#init_xは初期値、lrは学習値、step_numは勾配法の繰り返しの数 \n",
    "    x=init_x\n",
    "    for i in range(step_num):\n",
    "        grad=numerical_gradient(f,x)\n",
    "        x-=lr*grad\n",
    "    return x\n",
    "\n",
    "init_x=np.array([-3.0,4.0])\n",
    "gradient_descent(function_2_1,init_x=init_x,lr=0.1,step_num=100) #function_2_1=x0^2+x1^2"
   ]
  },
  {
   "cell_type": "code",
   "execution_count": 17,
   "id": "e5e3fd01",
   "metadata": {},
   "outputs": [
    {
     "data": {
      "image/png": "[encoded data removed]",
      "text/plain": [
       "<Figure size 432x288 with 1 Axes>"
      ]
     },
     "metadata": {
      "needs_background": "light"
     },
     "output_type": "display_data"
    }
   ],
   "source": [
    "def gradient_descent(f,init_x,lr=0.01,step_num=100):\n",
    "    x=init_x\n",
    "    x_history=[]\n",
    "    for i in range(step_num):\n",
    "        x_history.append(x.copy())\n",
    "        grad=numerical_gradient(f, x)\n",
    "        x-=lr*grad\n",
    "    return x,np.array(x_history)\n",
    "\n",
    "init_x=np.array([-3.0, 4.0])\n",
    "lr=0.1\n",
    "step_num=20\n",
    "x, x_history=gradient_descent(function_2_1, init_x, lr=lr, step_num=step_num)\n",
    "\n",
    "plt.plot([-5, 5],[0,0],'--b')\n",
    "plt.plot([0,0],[-5, 5],'--b')\n",
    "plt.plot(x_history[:,0],x_history[:,1],'o')\n",
    "\n",
    "plt.xlim(-3.5,3.5)\n",
    "plt.ylim(-4.5,4.5)\n",
    "plt.xlabel(\"X0\")\n",
    "plt.ylabel(\"X1\")\n",
    "plt.show()"
   ]
  },
  {
   "cell_type": "markdown",
   "id": "43d61988",
   "metadata": {},
   "source": [
    "それでは今章の総まとめとして、二層ニューラルネットワークでの確率的勾配降下法を実装してみましょう。まずは二層ニューラルネットワークを一つのクラスとして実装します。"
   ]
  },
  {
   "cell_type": "code",
   "execution_count": 7,
   "id": "46cd18bf",
   "metadata": {},
   "outputs": [],
   "source": [
    "import sys, os\n",
    "sys.path.append(os.pardir)\n",
    "from common.functions import *\n",
    "from common.gradient import numerical_gradient\n",
    "import numpy as np\n",
    "\n",
    "\n",
    "class TwoLayerNet:\n",
    "\n",
    "    def __init__(self, input_size, hidden_size, output_size, weight_init_std=0.01):\n",
    "        # 重みの初期化\n",
    "        self.params = {}\n",
    "        self.params['W1'] = weight_init_std * np.random.randn(input_size, hidden_size)\n",
    "        self.params['b1'] = np.zeros(hidden_size)\n",
    "        self.params['W2'] = weight_init_std * np.random.randn(hidden_size, output_size)\n",
    "        self.params['b2'] = np.zeros(output_size)\n",
    "\n",
    "    def predict(self, x):\n",
    "        W1, W2 = self.params['W1'], self.params['W2']\n",
    "        b1, b2 = self.params['b1'], self.params['b2']\n",
    "    \n",
    "        a1 = np.dot(x, W1) + b1\n",
    "        z1 = sigmoid(a1)\n",
    "        a2 = np.dot(z1, W2) + b2\n",
    "        y = softmax(a2)\n",
    "        \n",
    "        return y\n",
    "        \n",
    "    # x:入力データ, t:教師データ\n",
    "    def loss(self, x, t):\n",
    "        y = self.predict(x)\n",
    "        \n",
    "        return cross_entropy_error(y, t)\n",
    "    \n",
    "    def accuracy(self, x, t):\n",
    "        y = self.predict(x)\n",
    "        y = np.argmax(y, axis=1)\n",
    "        t = np.argmax(t, axis=1)\n",
    "        \n",
    "        accuracy = np.sum(y == t) / float(x.shape[0])\n",
    "        return accuracy\n",
    "        \n",
    "    # x:入力データ, t:教師データ\n",
    "    def numerical_gradient(self, x, t):\n",
    "        loss_W = lambda W: self.loss(x, t)\n",
    "        \n",
    "        grads = {}\n",
    "        grads['W1'] = numerical_gradient(loss_W, self.params['W1'])\n",
    "        grads['b1'] = numerical_gradient(loss_W, self.params['b1'])\n",
    "        grads['W2'] = numerical_gradient(loss_W, self.params['W2'])\n",
    "        grads['b2'] = numerical_gradient(loss_W, self.params['b2'])\n",
    "        \n",
    "        return grads"
   ]
  },
  {
   "cell_type": "markdown",
   "id": "47790023",
   "metadata": {},
   "source": [
    "これを用いて最初に示した手順通りにニューラルネットワークの学習を繰り返し行っていきます。"
   ]
  },
  {
   "cell_type": "code",
   "execution_count": null,
   "id": "8817515c",
   "metadata": {},
   "outputs": [],
   "source": [
    "import sys, os\n",
    "sys.path.append(os.pardir)  # 親ディレクトリのファイルをインポートするための設定\n",
    "import numpy as np\n",
    "import matplotlib.pyplot as plt\n",
    "from dataset.mnist import load_mnist\n",
    "\n",
    "# データの読み込み\n",
    "(x_train, t_train), (x_test, t_test) = load_mnist(normalize=True, one_hot_label=True)\n",
    "\n",
    "train_loss_list = []\n",
    "\n",
    "iters_num = 1000  # ハイパーパラメータ\n",
    "train_size = x_train.shape[0]\n",
    "batch_size = 100\n",
    "learning_rate = 0.1\n",
    "\n",
    "network = TwoLayerNet(input_size=784, hidden_size=50, output_size=10)\n",
    "\n",
    "for i in range(iters_num):\n",
    "    batch_mask = np.random.choice(train_size, batch_size)\n",
    "    x_batch = x_train[batch_mask]\n",
    "    t_batch = t_train[batch_mask]\n",
    "    # 勾配の計算\n",
    "    grad = network.numerical_gradient(x_batch, t_batch)\n",
    "    # パラメータの更新\n",
    "    for key in ('W1', 'b1', 'W2', 'b2'):\n",
    "        network.params[key] -= learning_rate * grad[key]\n",
    "    \n",
    "    #学習記録の更新\n",
    "    loss = network.loss(x_batch, t_batch)\n",
    "    train_loss_list.append(loss)\n",
    "# グラフの描画\n",
    "x = np.arange(iters_num)\n",
    "plt.plot(x, train_loss_list, label='train loss')\n",
    "plt.xlabel(\"iteration\")\n",
    "plt.ylabel(\"loss\")\n",
    "plt.ylim(0, 9)\n",
    "plt.show()"
   ]
  },
  {
   "cell_type": "code",
   "execution_count": null,
   "id": "5739164c",
   "metadata": {},
   "outputs": [],
   "source": [
    "import sys, os\n",
    "sys.path.append(os.pardir)  # 親ディレクトリのファイルをインポートするための設定\n",
    "import numpy as np\n",
    "import matplotlib.pyplot as plt\n",
    "from dataset.mnist import load_mnist\n",
    "from two_layer_net import TwoLayerNet\n",
    "\n",
    "# データの読み込み\n",
    "(x_train, t_train), (x_test, t_test) = load_mnist(normalize=True, one_hot_label=True)\n",
    "\n",
    "network = TwoLayerNet(input_size=784, hidden_size=50, output_size=10)\n",
    "\n",
    "iters_num = 1000  # 繰り返しの回数を適宜設定する\n",
    "train_size = x_train.shape[0]\n",
    "batch_size = 100\n",
    "learning_rate = 0.1\n",
    "\n",
    "train_loss_list = []\n",
    "train_acc_list = []\n",
    "test_acc_list = []\n",
    "\n",
    "iter_per_epoch = max(train_size / batch_size, 1)\n",
    "\n",
    "for i in range(iters_num):\n",
    "    batch_mask = np.random.choice(train_size, batch_size)\n",
    "    x_batch = x_train[batch_mask]\n",
    "    t_batch = t_train[batch_mask]\n",
    "    \n",
    "    # 勾配の計算\n",
    "    #grad = network.numerical_gradient(x_batch, t_batch)\n",
    "    grad = network.gradient(x_batch, t_batch)\n",
    "    \n",
    "    # パラメータの更新\n",
    "    for key in ('W1', 'b1', 'W2', 'b2'):\n",
    "        network.params[key] -= learning_rate * grad[key]\n",
    "    \n",
    "    loss = network.loss(x_batch, t_batch)\n",
    "    train_loss_list.append(loss)\n",
    "    \n",
    "    if i % iter_per_epoch == 0:\n",
    "        train_acc = network.accuracy(x_train, t_train)\n",
    "        test_acc = network.accuracy(x_test, t_test)\n",
    "        train_acc_list.append(train_acc)\n",
    "        test_acc_list.append(test_acc)\n",
    "        print(\"train acc, test acc | \" + str(train_acc) + \", \" + str(test_acc))\n",
    "\n",
    "# グラフの描画\n",
    "markers = {'train': 'o', 'test': 's'}\n",
    "x = np.arange(len(train_acc_list))\n",
    "plt.plot(x, train_acc_list, label='train acc')\n",
    "plt.plot(x, test_acc_list, label='test acc', linestyle='--')\n",
    "plt.xlabel(\"epochs\")\n",
    "plt.ylabel(\"accuracy\")\n",
    "plt.ylim(0, 1.0)\n",
    "plt.legend(loc='lower right')\n",
    "plt.show()"
   ]
  }
 ],
 "metadata": {
  "kernelspec": {
   "display_name": "Python 3 (ipykernel)",
   "language": "python",
   "name": "python3"
  },
  "language_info": {
   "codemirror_mode": {
    "name": "ipython",
    "version": 3
   },
   "file_extension": ".py",
   "mimetype": "text/x-python",
   "name": "python",
   "nbconvert_exporter": "python",
   "pygments_lexer": "ipython3",
   "version": "3.9.7"
  }
 },
 "nbformat": 4,
 "nbformat_minor": 5
}
