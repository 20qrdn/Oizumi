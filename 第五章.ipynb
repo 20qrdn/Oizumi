{
 "cells": [
  {
   "cell_type": "markdown",
   "id": "e3c0da6c",
   "metadata": {},
   "source": [
    "# 五章　誤差逆伝播法"
   ]
  },
  {
   "cell_type": "markdown",
   "id": "20fd2898",
   "metadata": {},
   "source": [
    "四章で実装した勾配降下法を用いたニューラルネットワークの学習は、**数値微分**を利用したことで計算に多くの時間がかかりました。そこで今回は**誤差逆伝播法**を用いて高速かつ効率的に勾配を求めてみましょう。"
   ]
  },
  {
   "cell_type": "markdown",
   "id": "ff343aa1",
   "metadata": {},
   "source": [
    "## 計算グラフ"
   ]
  },
  {
   "cell_type": "markdown",
   "id": "d6a479f0",
   "metadata": {},
   "source": [
    "![計算グラフ](https://cdn-ak.f.st-hatena.com/images/fotolife/l/losiz17/20180312/20180312192958.png)"
   ]
  },
  {
   "cell_type": "markdown",
   "id": "45a8d9d1",
   "metadata": {},
   "source": [
    "**計算グラフ**とは、計算の過程を上記の図のように表したものです。演算の内容が書かれている円を**ノード**、ノード間を結ぶ直線を**エッジ**と呼びます。基本的に左から右へ計算は進められ、そのことを**順伝播**といいます。一方でその逆は**逆伝播**といいます。これが今章で大事になってきます。"
   ]
  },
  {
   "cell_type": "markdown",
   "id": "41eca4ca",
   "metadata": {},
   "source": [
    "逆伝播は上の図で書かれた右から左のエッジです。一つ一つのエッジは微分の式($ \\frac{\\partial y}{\\partial x} $)で表され、逆伝播はこの微分の式をかけることで行われます。この性質を**連鎖律の原理**と呼び、**合成関数**の考え方が使われています。"
   ]
  },
  {
   "cell_type": "markdown",
   "id": "458907ba",
   "metadata": {},
   "source": [
    "## 逆伝播"
   ]
  },
  {
   "cell_type": "markdown",
   "id": "12b2221f",
   "metadata": {},
   "source": [
    "ここから先は様々な演算の逆伝播を見ていきます。最初は四則演算からです。"
   ]
  },
  {
   "cell_type": "markdown",
   "id": "790aec64",
   "metadata": {},
   "source": [
    "加算ノードの逆伝播は非常にシンプルです。例として、上記にもある$ t=x+y $の数式を偏微分してみると、"
   ]
  },
  {
   "cell_type": "markdown",
   "id": "931548fe",
   "metadata": {},
   "source": [
    "$$\n",
    "    \\frac{\\partial t}{\\partial x}=1 \\\\\n",
    "    \\frac{\\partial t}{\\partial y}=1\n",
    "$$"
   ]
  },
  {
   "cell_type": "markdown",
   "id": "14cdf337",
   "metadata": {},
   "source": [
    "となります。これは加算の逆伝播は値がそのまま伝わることが分かります。"
   ]
  },
  {
   "cell_type": "markdown",
   "id": "0d56e0eb",
   "metadata": {},
   "source": [
    "続いて乗算ノードの逆伝播です。ここでは$ z=xy $という式を例にとって考えてみましょう。"
   ]
  },
  {
   "cell_type": "markdown",
   "id": "179cc0df",
   "metadata": {},
   "source": [
    "$$\n",
    "    \\frac{\\partial z}{\\partial x}=y \\\\\n",
    "    \\frac{\\partial z}{\\partial y}=x\n",
    "$$"
   ]
  },
  {
   "cell_type": "markdown",
   "id": "3828e0fb",
   "metadata": {},
   "source": [
    "この式からは、乗算ノードの逆伝播が順伝播の時の入力信号を逆に掛けて伝わることになると分かります。"
   ]
  },
  {
   "cell_type": "markdown",
   "id": "46fa2c22",
   "metadata": {},
   "source": [
    "一度これまで習った計算グラフの考え方を具体例を使って表してみます。"
   ]
  },
  {
   "cell_type": "markdown",
   "id": "097678be",
   "metadata": {},
   "source": [
    "![計算グラフ 具体例](https://qiita-image-store.s3.ap-northeast-1.amazonaws.com/0/470838/a5e0cc17-3e26-3e22-140c-627cb7a149ae.png)"
   ]
  },
  {
   "cell_type": "markdown",
   "id": "e7084418",
   "metadata": {},
   "source": [
    "この時出てくる逆伝播の値(微分)は「出力データに与える影響度の高さ」と考えるとわかりやすいと思います。"
   ]
  },
  {
   "cell_type": "markdown",
   "id": "0f63110d",
   "metadata": {},
   "source": [
    "## 実装(序)"
   ]
  },
  {
   "cell_type": "markdown",
   "id": "2a61f07f",
   "metadata": {},
   "source": [
    "先ほど示した計算グラフの例を実装してみましょう。"
   ]
  },
  {
   "cell_type": "code",
   "execution_count": 3,
   "id": "7c20727a",
   "metadata": {},
   "outputs": [],
   "source": [
    "# 乗算、加算レイヤの定義(レイヤとはニューラルネットワークの機能を一つにまとめたもの)\n",
    "\n",
    "class MulLayer: #乗算レイヤ\n",
    "    def __init__(self): #順伝播の入力信号の保持\n",
    "        self.x = None\n",
    "        self.y = None\n",
    "\n",
    "    def forward(self, x, y): #順伝播の計算\n",
    "        self.x = x\n",
    "        self.y = y                \n",
    "        out = x * y\n",
    "\n",
    "        return out\n",
    "\n",
    "    def backward(self, dout): #逆伝播の計算\n",
    "        dx = dout * self.y #dout=微分の値\n",
    "        dy = dout * self.x\n",
    "\n",
    "        return dx, dy\n",
    "\n",
    "\n",
    "class AddLayer: #加算レイヤ\n",
    "    def __init__(self):\n",
    "        pass #順伝播の入力信号は関係ない\n",
    "\n",
    "    def forward(self, x, y):\n",
    "        out = x + y\n",
    "\n",
    "        return out\n",
    "\n",
    "    def backward(self, dout):\n",
    "        dx = dout * 1\n",
    "        dy = dout * 1\n",
    "\n",
    "        return dx, dy"
   ]
  },
  {
   "cell_type": "code",
   "execution_count": 4,
   "id": "0d3c1ab4",
   "metadata": {},
   "outputs": [
    {
     "name": "stdout",
     "output_type": "stream",
     "text": [
      "319.0\n",
      "110.00000000000001 2.2 3.3000000000000003 33.0 290\n"
     ]
    }
   ],
   "source": [
    "pencil=100 #鉛筆一本の値段\n",
    "pencil_num=2 #買った鉛筆の本数\n",
    "eraser=30 #消しゴム一個の値段\n",
    "eraser_num=3 #買った消しゴムの個数\n",
    "tax=1.1 #消費税\n",
    "\n",
    "mul_pencil_layer=MulLayer()\n",
    "mul_eraser_layer=MulLayer()\n",
    "add_pencil_eraser_layer=AddLayer()\n",
    "mul_tax_layer=MulLayer()\n",
    "\n",
    "pencil_price=mul_pencil_layer.forward(pencil,pencil_num) #鉛筆の値段の合計(税抜)\n",
    "eraser_price=mul_eraser_layer.forward(eraser,eraser_num) #消しゴムの値段の合計(税抜)\n",
    "all_price=add_pencil_eraser_layer.forward(pencil_price,eraser_price) #税抜価格\n",
    "price=mul_tax_layer.forward(all_price,tax) #税込価格\n",
    "\n",
    "dprice=1 #逆伝播\n",
    "dall_price,dtax=mul_tax_layer.backward(dprice)\n",
    "dpencil_price,deraser_price=add_pencil_eraser_layer.backward(dall_price)\n",
    "deraser,deraser_num=mul_eraser_layer.backward(deraser_price)\n",
    "dpencil,dpencil_num=mul_pencil_layer.backward(dpencil_price)\n",
    "\n",
    "print(price)\n",
    "print(dpencil_num,dpencil,deraser,deraser_num,dtax)"
   ]
  },
  {
   "cell_type": "markdown",
   "id": "93fa8185",
   "metadata": {},
   "source": [
    "## 実装(破)"
   ]
  },
  {
   "cell_type": "markdown",
   "id": "68868c99",
   "metadata": {},
   "source": [
    "ここからは今までの実装で用いてきたような実際のニューラルネットワークの学習で使う関数をレイヤとして定義します。"
   ]
  },
  {
   "cell_type": "markdown",
   "id": "125416f7",
   "metadata": {},
   "source": [
    "### ReLUレイヤ"
   ]
  },
  {
   "cell_type": "code",
   "execution_count": 5,
   "id": "c2b151e1",
   "metadata": {},
   "outputs": [],
   "source": [
    "import numpy as np\n",
    "from common.functions import *\n",
    "from common.util import im2col, col2im\n",
    "\n",
    "\n",
    "class Relu:\n",
    "    def __init__(self):\n",
    "        self.mask = None\n",
    "\n",
    "    def forward(self, x):\n",
    "        self.mask = (x <= 0)\n",
    "        out = x.copy()\n",
    "        out[self.mask] = 0\n",
    "\n",
    "        return out\n",
    "\n",
    "    def backward(self, dout):\n",
    "        dout[self.mask] = 0\n",
    "        dx = dout\n",
    "\n",
    "        return dx"
   ]
  },
  {
   "cell_type": "code",
   "execution_count": 7,
   "id": "53f4a349",
   "metadata": {},
   "outputs": [
    {
     "name": "stdout",
     "output_type": "stream",
     "text": [
      "[[ 1.  -0.5]\n",
      " [-2.   3. ]]\n",
      "[[False  True]\n",
      " [ True False]]\n"
     ]
    }
   ],
   "source": [
    "# mask変数の機能\n",
    "\n",
    "x=np.array([[1.0,-0.5],[-2.0,3.0]])\n",
    "print(x)\n",
    "mask=(x<=0)\n",
    "print(mask)"
   ]
  },
  {
   "cell_type": "markdown",
   "id": "9cf5aa41",
   "metadata": {},
   "source": [
    "### Sigmoidレイヤ"
   ]
  },
  {
   "cell_type": "code",
   "execution_count": 8,
   "id": "5ec3c5f6",
   "metadata": {},
   "outputs": [],
   "source": [
    "class Sigmoid:\n",
    "    def __init__(self):\n",
    "        self.out = None\n",
    "\n",
    "    def forward(self, x):\n",
    "        out = sigmoid(x)\n",
    "        self.out = out\n",
    "        return out\n",
    "\n",
    "    def backward(self, dout):\n",
    "        dx = dout * (1.0 - self.out) * self.out\n",
    "\n",
    "        return dx"
   ]
  },
  {
   "cell_type": "markdown",
   "id": "40d3dc25",
   "metadata": {},
   "source": [
    "### Affineレイヤ"
   ]
  },
  {
   "cell_type": "markdown",
   "id": "f7fb7682",
   "metadata": {},
   "source": [
    "ニュートラルネットワークの順伝播は行列の積です。そこでその計算(今まではnp.dot(X,W)といった風に計算していた)の順伝播、逆伝播を**Affineレイヤ**として実装します。"
   ]
  },
  {
   "cell_type": "code",
   "execution_count": 9,
   "id": "3e2f4a6b",
   "metadata": {},
   "outputs": [],
   "source": [
    "class Affine:\n",
    "    def __init__(self, W, b):\n",
    "        self.W =W\n",
    "        self.b = b\n",
    "        \n",
    "        self.x = None\n",
    "        # 重み・バイアスパラメータの微分\n",
    "        self.dW = None\n",
    "        self.db = None\n",
    "\n",
    "    def forward(self, x):\n",
    "        self.x = x\n",
    "        x = x.reshape(x.shape[0], -1)\n",
    "        self.x = x\n",
    "\n",
    "        out = np.dot(self.x, self.W) + self.b\n",
    "\n",
    "        return out\n",
    "\n",
    "    def backward(self, dout):\n",
    "        dx = np.dot(dout, self.W.T)\n",
    "        self.dW = np.dot(self.x.T, dout)\n",
    "        self.db = np.sum(dout, axis=0)\n",
    "        \n",
    "        return dx"
   ]
  },
  {
   "cell_type": "markdown",
   "id": "19a2d22c",
   "metadata": {},
   "source": [
    "### Softmax-with-Lossレイヤ"
   ]
  },
  {
   "cell_type": "markdown",
   "id": "e9adcf06",
   "metadata": {},
   "source": [
    "最後に出力層にあたるソフトマックス関数と損失関数である交差エントロピー誤差をまとめて**Softmax-with-Lossレイヤ**として実装します。"
   ]
  },
  {
   "cell_type": "code",
   "execution_count": 10,
   "id": "1befac67",
   "metadata": {},
   "outputs": [],
   "source": [
    "class SoftmaxWithLoss:\n",
    "    def __init__(self):\n",
    "        self.loss = None # 損失\n",
    "        self.y = None # softmaxの出力\n",
    "        self.t = None # 教師データ (one-hot vector)\n",
    "\n",
    "    def forward(self, x, t):\n",
    "        self.t = t\n",
    "        self.y = softmax(x)\n",
    "        self.loss = cross_entropy_error(self.y, self.t)\n",
    "        \n",
    "        return self.loss\n",
    "\n",
    "    def backward(self, dout=1):\n",
    "        batch_size = self.t.shape[0]\n",
    "        dx = (self.y - self.t) / batch_size\n",
    "        \n",
    "        return dx"
   ]
  },
  {
   "cell_type": "markdown",
   "id": "b1005ecd",
   "metadata": {},
   "source": [
    "## 実装(急)"
   ]
  },
  {
   "cell_type": "markdown",
   "id": "02821d23",
   "metadata": {},
   "source": [
    "それでは誤差逆伝播法を導入していきましょう。まずは前回も行った二層ニューラルネットワークの実装からです。"
   ]
  },
  {
   "cell_type": "code",
   "execution_count": 11,
   "id": "9388d1e3",
   "metadata": {},
   "outputs": [],
   "source": [
    "import sys, os\n",
    "sys.path.append(os.pardir)  # 親ディレクトリのファイルをインポートするための設定\n",
    "import numpy as np\n",
    "from common.layers import *\n",
    "from common.gradient import numerical_gradient\n",
    "from collections import OrderedDict\n",
    "\n",
    "\n",
    "class TwoLayerNet:\n",
    "\n",
    "    def __init__(self, input_size, hidden_size, output_size, weight_init_std = 0.01):\n",
    "        # 重みの初期化\n",
    "        self.params = {}\n",
    "        self.params['W1'] = weight_init_std * np.random.randn(input_size, hidden_size)\n",
    "        self.params['b1'] = np.zeros(hidden_size)\n",
    "        self.params['W2'] = weight_init_std * np.random.randn(hidden_size, output_size) \n",
    "        self.params['b2'] = np.zeros(output_size)\n",
    "\n",
    "        # レイヤの生成\n",
    "        self.layers = OrderedDict()\n",
    "        self.layers['Affine1'] = Affine(self.params['W1'], self.params['b1'])\n",
    "        self.layers['Relu1'] = Relu()\n",
    "        self.layers['Affine2'] = Affine(self.params['W2'], self.params['b2'])\n",
    "\n",
    "        self.lastLayer = SoftmaxWithLoss()\n",
    "        \n",
    "    def predict(self, x):\n",
    "        for layer in self.layers.values():\n",
    "            x = layer.forward(x)\n",
    "        \n",
    "        return x\n",
    "        \n",
    "    # x:入力データ, t:教師データ\n",
    "    def loss(self, x, t):\n",
    "        y = self.predict(x)\n",
    "        return self.lastLayer.forward(y, t)\n",
    "    \n",
    "    def accuracy(self, x, t):\n",
    "        y = self.predict(x)\n",
    "        y = np.argmax(y, axis=1)\n",
    "        if t.ndim != 1 : t = np.argmax(t, axis=1)\n",
    "        \n",
    "        accuracy = np.sum(y == t) / float(x.shape[0])\n",
    "        return accuracy\n",
    "        \n",
    "    # x:入力データ, t:教師データ\n",
    "    def numerical_gradient(self, x, t):\n",
    "        loss_W = lambda W: self.loss(x, t)\n",
    "        \n",
    "        grads = {}\n",
    "        grads['W1'] = numerical_gradient(loss_W, self.params['W1'])\n",
    "        grads['b1'] = numerical_gradient(loss_W, self.params['b1'])\n",
    "        grads['W2'] = numerical_gradient(loss_W, self.params['W2'])\n",
    "        grads['b2'] = numerical_gradient(loss_W, self.params['b2'])\n",
    "        \n",
    "        return grads\n",
    "        \n",
    "    def gradient(self, x, t):\n",
    "        # forward\n",
    "        self.loss(x, t)\n",
    "\n",
    "        # backward\n",
    "        dout = 1\n",
    "        dout = self.lastLayer.backward(dout)\n",
    "        \n",
    "        layers = list(self.layers.values())\n",
    "        layers.reverse()\n",
    "        for layer in layers:\n",
    "            dout = layer.backward(dout)\n",
    "\n",
    "        # 設定\n",
    "        grads = {}\n",
    "        grads['W1'], grads['b1'] = self.layers['Affine1'].dW, self.layers['Affine1'].db\n",
    "        grads['W2'], grads['b2'] = self.layers['Affine2'].dW, self.layers['Affine2'].db\n",
    "\n",
    "        return grads"
   ]
  },
  {
   "cell_type": "markdown",
   "id": "f9466fb5",
   "metadata": {},
   "source": [
    "ここで前回行った数値微分と今回の誤差逆伝播法に本当に差はないのか検証します。"
   ]
  },
  {
   "cell_type": "code",
   "execution_count": 12,
   "id": "d26dcd80",
   "metadata": {},
   "outputs": [
    {
     "name": "stdout",
     "output_type": "stream",
     "text": [
      "W1:1.9147008829315543e-10\n",
      "b1:9.878135252632502e-10\n",
      "W2:6.984310773060221e-08\n",
      "b2:1.4036424991342723e-07\n"
     ]
    }
   ],
   "source": [
    "import sys, os\n",
    "sys.path.append(os.pardir)  # 親ディレクトリのファイルをインポートするための設定\n",
    "import numpy as np\n",
    "from dataset.mnist import load_mnist\n",
    "from two_layer_net import TwoLayerNet\n",
    "\n",
    "# データの読み込み\n",
    "(x_train, t_train), (x_test, t_test) = load_mnist(normalize=True, one_hot_label=True)\n",
    "\n",
    "network = TwoLayerNet(input_size=784, hidden_size=50, output_size=10)\n",
    "\n",
    "x_batch = x_train[:3]\n",
    "t_batch = t_train[:3]\n",
    "\n",
    "grad_numerical = network.numerical_gradient(x_batch, t_batch)\n",
    "grad_backprop = network.gradient(x_batch, t_batch)\n",
    "\n",
    "for key in grad_numerical.keys():\n",
    "    diff = np.average( np.abs(grad_backprop[key] - grad_numerical[key]) )\n",
    "    print(key + \":\" + str(diff))"
   ]
  },
  {
   "cell_type": "markdown",
   "id": "091ce1dd",
   "metadata": {},
   "source": [
    "値の小ささから勾配の差はかなり小さいとわかりました。とうとう実装です！"
   ]
  },
  {
   "cell_type": "code",
   "execution_count": 13,
   "id": "3faa4b8a",
   "metadata": {},
   "outputs": [
    {
     "name": "stdout",
     "output_type": "stream",
     "text": [
      "0.10255 0.1009\n",
      "0.7679333333333334 0.776\n",
      "0.87845 0.8815\n",
      "0.8992666666666667 0.9017\n",
      "0.90685 0.909\n",
      "0.9132 0.9166\n",
      "0.91845 0.9205\n",
      "0.9231833333333334 0.9253\n",
      "0.9254 0.9286\n",
      "0.92935 0.9317\n",
      "0.9324666666666667 0.9324\n",
      "0.9348 0.9352\n",
      "0.9363666666666667 0.9376\n",
      "0.939 0.9391\n",
      "0.9413166666666667 0.9403\n",
      "0.9431666666666667 0.9411\n",
      "0.94515 0.9432\n"
     ]
    },
    {
     "data": {
      "image/png": "[encoded data removed]",
      "text/plain": [
       "<Figure size 432x288 with 1 Axes>"
      ]
     },
     "metadata": {
      "needs_background": "light"
     },
     "output_type": "display_data"
    }
   ],
   "source": [
    "import sys, os\n",
    "sys.path.append(os.pardir)\n",
    "\n",
    "import numpy as np\n",
    "from dataset.mnist import load_mnist\n",
    "from two_layer_net import TwoLayerNet\n",
    "import matplotlib.pyplot as plt\n",
    "\n",
    "# データの読み込み\n",
    "(x_train, t_train), (x_test, t_test) = load_mnist(normalize=True, one_hot_label=True)\n",
    "\n",
    "network = TwoLayerNet(input_size=784, hidden_size=50, output_size=10)\n",
    "\n",
    "iters_num = 10000\n",
    "train_size = x_train.shape[0]\n",
    "batch_size = 100\n",
    "learning_rate = 0.1\n",
    "\n",
    "train_loss_list = []\n",
    "train_acc_list = []\n",
    "test_acc_list = []\n",
    "\n",
    "iter_per_epoch = max(train_size / batch_size, 1)\n",
    "\n",
    "for i in range(iters_num):\n",
    "    batch_mask = np.random.choice(train_size, batch_size)\n",
    "    x_batch = x_train[batch_mask]\n",
    "    t_batch = t_train[batch_mask]\n",
    "    \n",
    "    # 勾配\n",
    "    #grad = network.numerical_gradient(x_batch, t_batch)\n",
    "    grad = network.gradient(x_batch, t_batch)\n",
    "    \n",
    "    # 更新\n",
    "    for key in ('W1', 'b1', 'W2', 'b2'):\n",
    "        network.params[key] -= learning_rate * grad[key]\n",
    "    \n",
    "    loss = network.loss(x_batch, t_batch)\n",
    "    train_loss_list.append(loss)\n",
    "    \n",
    "    if i % iter_per_epoch == 0:\n",
    "        train_acc = network.accuracy(x_train, t_train)\n",
    "        test_acc = network.accuracy(x_test, t_test)\n",
    "        train_acc_list.append(train_acc)\n",
    "        test_acc_list.append(test_acc)\n",
    "        print(train_acc, test_acc)\n",
    "\n",
    "markers = {'train': 'o', 'test': 's'}\n",
    "x = np.arange(len(train_acc_list))\n",
    "plt.plot(x, train_acc_list, label='train acc')\n",
    "plt.plot(x, test_acc_list, label='test acc', linestyle='--')\n",
    "plt.xlabel(\"epochs\")\n",
    "plt.ylabel(\"accuracy\")\n",
    "plt.ylim(0, 1.0)\n",
    "plt.legend(loc='lower right')\n",
    "plt.show()"
   ]
  },
  {
   "cell_type": "markdown",
   "id": "aad380e9",
   "metadata": {},
   "source": [
    "前回とは比べ物にならない速さで実装することができました！これで今章を終わりたいと思います。"
   ]
  }
 ],
 "metadata": {
  "kernelspec": {
   "display_name": "Python 3 (ipykernel)",
   "language": "python",
   "name": "python3"
  },
  "language_info": {
   "codemirror_mode": {
    "name": "ipython",
    "version": 3
   },
   "file_extension": ".py",
   "mimetype": "text/x-python",
   "name": "python",
   "nbconvert_exporter": "python",
   "pygments_lexer": "ipython3",
   "version": "3.9.7"
  }
 },
 "nbformat": 4,
 "nbformat_minor": 5
}
